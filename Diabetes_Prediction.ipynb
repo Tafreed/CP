{
  "nbformat": 4,
  "nbformat_minor": 0,
  "metadata": {
    "colab": {
      "name": "Diabetes_Prediction.ipynb",
      "provenance": [],
      "collapsed_sections": [],
      "toc_visible": true,
      "include_colab_link": true
    },
    "kernelspec": {
      "name": "python3",
      "display_name": "Python 3"
    },
    "language_info": {
      "name": "python"
    }
  },
  "cells": [
    {
      "cell_type": "markdown",
      "metadata": {
        "id": "view-in-github",
        "colab_type": "text"
      },
      "source": [
        "<a href=\"https://colab.research.google.com/github/Tafreed/CP/blob/master/Diabetes_Prediction.ipynb\" target=\"_parent\"><img src=\"https://colab.research.google.com/assets/colab-badge.svg\" alt=\"Open In Colab\"/></a>"
      ]
    },
    {
      "cell_type": "markdown",
      "source": [
        "# Importing modules "
      ],
      "metadata": {
        "id": "F_ExCCjSFPw9"
      }
    },
    {
      "cell_type": "code",
      "execution_count": null,
      "metadata": {
        "id": "53oTDp32960x"
      },
      "outputs": [],
      "source": [
        "import numpy as np\n",
        "import pandas as pd\n",
        "from sklearn.preprocessing import StandardScaler\n",
        "from sklearn.model_selection import train_test_split,cross_val_score\n",
        "from sklearn import svm\n",
        "from sklearn.neighbors import KNeighborsClassifier\n",
        "from sklearn.metrics import accuracy_score, precision_score, f1_score,confusion_matrix\n",
        "import matplotlib.pyplot as plt"
      ]
    },
    {
      "cell_type": "markdown",
      "source": [
        "# Dataset"
      ],
      "metadata": {
        "id": "qTdgIO8rFajQ"
      }
    },
    {
      "cell_type": "code",
      "source": [
        "diabetes_dataset = pd.read_csv('diabetes.csv')"
      ],
      "metadata": {
        "id": "AJqlSL3p-XOE"
      },
      "execution_count": null,
      "outputs": []
    },
    {
      "cell_type": "code",
      "source": [
        "diabetes_dataset.head()"
      ],
      "metadata": {
        "id": "4fwbGAdn-rvY"
      },
      "execution_count": null,
      "outputs": []
    },
    {
      "cell_type": "code",
      "source": [
        "diabetes_dataset.describe()"
      ],
      "metadata": {
        "id": "XNCkkkVs_H8M"
      },
      "execution_count": null,
      "outputs": []
    },
    {
      "cell_type": "code",
      "source": [
        "diabetes_parameters = diabetes_dataset.drop(columns = 'Outcome', axis=1)\n",
        "diabetes_outcomes = diabetes_dataset['Outcome']"
      ],
      "metadata": {
        "id": "hPjZW4rg_SSz"
      },
      "execution_count": null,
      "outputs": []
    },
    {
      "cell_type": "markdown",
      "source": [
        "# Standardization\n"
      ],
      "metadata": {
        "id": "QMQDnRt_Feel"
      }
    },
    {
      "cell_type": "code",
      "source": [
        "scaler = StandardScaler()"
      ],
      "metadata": {
        "id": "wJklYkuJ_wzl"
      },
      "execution_count": null,
      "outputs": []
    },
    {
      "cell_type": "code",
      "source": [
        "scaler.fit(diabetes_parameters)"
      ],
      "metadata": {
        "id": "4VdDEvzfAdcf"
      },
      "execution_count": null,
      "outputs": []
    },
    {
      "cell_type": "code",
      "source": [
        "standardized_data = scaler.transform(diabetes_parameters)\n",
        "standardized_data_feat = pd.DataFrame(standardized_data,columns=diabetes_dataset.columns[:-1])\n",
        "standardized_data_feat.head()"
      ],
      "metadata": {
        "id": "ULQ0yWcPAi0G"
      },
      "execution_count": null,
      "outputs": []
    },
    {
      "cell_type": "markdown",
      "source": [
        "# Splitting into Train and Test"
      ],
      "metadata": {
        "id": "onoflQmoFi_l"
      }
    },
    {
      "cell_type": "code",
      "source": [
        "X_train, X_test, Y_train, Y_test = train_test_split(standardized_data,diabetes_outcomes, test_size = 0.33, stratify=diabetes_outcomes, random_state=42)"
      ],
      "metadata": {
        "id": "wsuBH_oHAlOM"
      },
      "execution_count": null,
      "outputs": []
    },
    {
      "cell_type": "markdown",
      "source": [
        "# Classfier Support Vector Machine"
      ],
      "metadata": {
        "id": "Z6FP1sg-FoJy"
      }
    },
    {
      "cell_type": "code",
      "source": [
        "classifier = svm.SVC(kernel='rbf')"
      ],
      "metadata": {
        "id": "0lL6f8eyA_0J"
      },
      "execution_count": null,
      "outputs": []
    },
    {
      "cell_type": "code",
      "source": [
        "classifier.fit(X_train, Y_train)"
      ],
      "metadata": {
        "id": "RzncTkboBHoL"
      },
      "execution_count": null,
      "outputs": []
    },
    {
      "cell_type": "code",
      "source": [
        "X_train_prediction = classifier.predict(X_train)\n",
        "X_test_prediction = classifier.predict(X_test)"
      ],
      "metadata": {
        "id": "8rVSWOZLF40g"
      },
      "execution_count": null,
      "outputs": []
    },
    {
      "cell_type": "markdown",
      "source": [
        "# Accuracy Test data"
      ],
      "metadata": {
        "id": "Oayw9bj9FwtI"
      }
    },
    {
      "cell_type": "code",
      "source": [
        "test_data_accuracy = accuracy_score(Y_test,X_test_prediction)\n",
        "print('Accuracy score of the test data : ', test_data_accuracy)"
      ],
      "metadata": {
        "id": "o_ifapBvBQmi"
      },
      "execution_count": null,
      "outputs": []
    },
    {
      "cell_type": "code",
      "source": [
        "test_data_f1_score = f1_score(Y_test, X_test_prediction, average='binary')\n",
        "print('F1 score of the test data : ', test_data_f1_score)"
      ],
      "metadata": {
        "id": "Zx7727wuDYxn"
      },
      "execution_count": null,
      "outputs": []
    },
    {
      "cell_type": "code",
      "source": [
        "test_data_precision_score = precision_score(Y_test,X_test_prediction,)\n",
        "print('Precision score of the Test data : ', test_data_precision_score)"
      ],
      "metadata": {
        "id": "6e9JX_CQJ1Ox"
      },
      "execution_count": null,
      "outputs": []
    },
    {
      "cell_type": "code",
      "source": [
        "print(confusion_matrix(Y_test,X_test_prediction))"
      ],
      "metadata": {
        "id": "UFnNM33sr4EO"
      },
      "execution_count": null,
      "outputs": []
    },
    {
      "cell_type": "markdown",
      "source": [
        "# K Nearest Neighbours Classifier"
      ],
      "metadata": {
        "id": "FxA1YKwyM1LA"
      }
    },
    {
      "cell_type": "code",
      "source": [
        "classifier2 = KNeighborsClassifier(n_neighbors=29)"
      ],
      "metadata": {
        "id": "oZKC4P2JKQ37"
      },
      "execution_count": null,
      "outputs": []
    },
    {
      "cell_type": "code",
      "source": [
        "classifier2.fit(X_train, Y_train)"
      ],
      "metadata": {
        "id": "lFUqhuM3MsN2"
      },
      "execution_count": null,
      "outputs": []
    },
    {
      "cell_type": "code",
      "source": [
        "X_train_prediction = classifier2.predict(X_train)\n",
        "X_test_prediction = classifier2.predict(X_test)"
      ],
      "metadata": {
        "id": "nkd13PSaM_te"
      },
      "execution_count": null,
      "outputs": []
    },
    {
      "cell_type": "markdown",
      "source": [
        "# Accuracy of Test data"
      ],
      "metadata": {
        "id": "-wdZWXLg6Y6p"
      }
    },
    {
      "cell_type": "code",
      "source": [
        "test_data_accuracy = accuracy_score(Y_test,X_test_prediction)\n",
        "print('Accuracy score of the test data : ', test_data_accuracy)"
      ],
      "metadata": {
        "id": "42x1SOzDM_tg"
      },
      "execution_count": null,
      "outputs": []
    },
    {
      "cell_type": "code",
      "source": [
        "test_data_f1_score = f1_score(Y_test,X_test_prediction, average='binary')\n",
        "print('F1 score of the test data : ', test_data_f1_score)"
      ],
      "metadata": {
        "id": "B9_pV8WgM_ti"
      },
      "execution_count": null,
      "outputs": []
    },
    {
      "cell_type": "code",
      "source": [
        "test_data_precision_score = precision_score(Y_test,X_test_prediction)\n",
        "print('Precision score of the Test data : ', test_data_precision_score)"
      ],
      "metadata": {
        "id": "-hLzPqx8M_tj"
      },
      "execution_count": null,
      "outputs": []
    },
    {
      "cell_type": "code",
      "source": [
        "classifier2.score(X_test,Y_test)"
      ],
      "metadata": {
        "id": "uZO5V1wxNE4L"
      },
      "execution_count": null,
      "outputs": []
    },
    {
      "cell_type": "code",
      "source": [
        "print(confusion_matrix(Y_test,X_test_prediction))"
      ],
      "metadata": {
        "id": "eKVmNTTGq-ID"
      },
      "execution_count": null,
      "outputs": []
    },
    {
      "cell_type": "markdown",
      "source": [
        "# Finding best value K"
      ],
      "metadata": {
        "id": "aROembgx6nPY"
      }
    },
    {
      "cell_type": "code",
      "source": [
        "accuracy_rate = []\n",
        "for i in range(1,40):\n",
        "    \n",
        "    knn = KNeighborsClassifier(n_neighbors=i)\n",
        "    score=cross_val_score(knn,standardized_data,diabetes_dataset['Outcome'],cv=10)\n",
        "    accuracy_rate.append(score.mean())"
      ],
      "metadata": {
        "id": "xS3bH5x3klQY"
      },
      "execution_count": null,
      "outputs": []
    },
    {
      "cell_type": "code",
      "source": [
        "plt.figure(figsize=(10,6))\n",
        "plt.plot(range(1,40),accuracy_rate,color='blue', linestyle='dashed', marker='o',\n",
        "         markerfacecolor='red', markersize=10)\n",
        "plt.title('Accuracy vs. K Value')\n",
        "plt.xlabel('K')\n",
        "plt.ylabel('Accuracy')"
      ],
      "metadata": {
        "id": "OwQxxiwHqTjc"
      },
      "execution_count": null,
      "outputs": []
    }
  ]
}